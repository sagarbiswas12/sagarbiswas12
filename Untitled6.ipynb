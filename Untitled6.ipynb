{
  "nbformat": 4,
  "nbformat_minor": 0,
  "metadata": {
    "colab": {
      "provenance": [],
      "authorship_tag": "ABX9TyMjpmEc7PuYgNGJZoObr7/x",
      "include_colab_link": true
    },
    "kernelspec": {
      "name": "python3",
      "display_name": "Python 3"
    },
    "language_info": {
      "name": "python"
    }
  },
  "cells": [
    {
      "cell_type": "markdown",
      "metadata": {
        "id": "view-in-github",
        "colab_type": "text"
      },
      "source": [
        "<a href=\"https://colab.research.google.com/github/sagarbiswas12/sagarbiswas12/blob/main/Untitled6.ipynb\" target=\"_parent\"><img src=\"https://colab.research.google.com/assets/colab-badge.svg\" alt=\"Open In Colab\"/></a>"
      ]
    },
    {
      "cell_type": "code",
      "execution_count": 1,
      "metadata": {
        "id": "7ku00foaWuHC"
      },
      "outputs": [],
      "source": [
        "import pandas as pd\n"
      ]
    },
    {
      "cell_type": "code",
      "source": [
        "import re\n",
        "import random\n",
        "\n",
        "def main_menu():\n",
        "    print(\"MAIN MENU\")\n",
        "    print(\"1. String Operation\")\n",
        "    print(\"2. Number Operation\")\n",
        "    print(\"3. EXIT\")\n",
        "\n",
        "def fn_email_validation(email):\n",
        "    return bool(re.match(r\"[^@]+@[^@]+\\.[^@]+\", email))\n",
        "\n",
        "def create_pyramid(n):\n",
        "    for i in range(0, n):\n",
        "        print(\"#\" * i)\n",
        "    for i in range(n, 0, -1):\n",
        "        print(\"#\" * i)\n",
        "\n",
        "def write_lines_to_file(filename):\n",
        "    lines = []\n",
        "    print(\"Enter multiple lines of text (type 'DONE' on a new line to finish):\")\n",
        "    while True:\n",
        "        line = input(\"\")\n",
        "        if line.strip().upper() == \"DONE\":\n",
        "            break\n",
        "        lines.append(line)\n",
        "    with open(filename, \"w\") as file:\n",
        "        for line in lines:\n",
        "            file.write(line + \"\\n\")\n",
        "    print(f\"File [{filename}] has been saved successfully!\")\n",
        "\n",
        "def fn_reverse_number():\n",
        "    n = int(input(\"Enter a number: \"))\n",
        "    reversed_num = 0\n",
        "    while n > 0:\n",
        "        reversed_num = reversed_num * 10 + n % 10\n",
        "        n //= 10\n",
        "    print(\"Reversed number is:\", reversed_num)\n",
        "\n",
        "def fibo():\n",
        "    n = int(input(\"Enter a number for series: \"))\n",
        "    a, b = 0, 1\n",
        "    print(a, end=' ')\n",
        "    for _ in range(n-1):\n",
        "        c = a + b\n",
        "        print(c, end=' ')\n",
        "        a = b\n",
        "        b = c\n",
        "    print()\n",
        "\n",
        "def fn_factorial(n):\n",
        "    if n == 0 or n == 1:\n",
        "        return 1\n",
        "    else:\n",
        "        return n * fn_factorial(n-1)\n",
        "\n",
        "def fn_random_number_generator():\n",
        "    with open(\"100Numbers.txt\", \"w\") as file:\n",
        "        for _ in range(100):\n",
        "            number = random.randint(1, 100)\n",
        "            file.write(str(number) + \" \")\n",
        "    with open(\"100Numbers.txt\", \"r\") as file:\n",
        "        print(file.read())\n",
        "\n",
        "def main():\n",
        "    while True:\n",
        "        main_menu()\n",
        "        rchoice = input('\\nEnter choice(1, 2 or 3): ')\n",
        "        if rchoice == '1':\n",
        "            while True:\n",
        "                print(\"\\nString Operations Menu\")\n",
        "                print(\"1. Email Validation\")\n",
        "                print(\"2. Create Pyramid\")\n",
        "                print(\"3. Write Lines to File\")\n",
        "                print(\"4. Return to Main Menu\")\n",
        "                choice = input('\\nEnter choice (1-4): ')\n",
        "                if choice == '1':\n",
        "                    email = input(\"\\nEnter an email address: \")\n",
        "                    if fn_email_validation(email):\n",
        "                        print(f\"\\nProvided email address [{email}] is valid\")\n",
        "                    else:\n",
        "                        print(f\"\\nProvided email address [{email}] is not valid\")\n",
        "                elif choice == '2':\n",
        "                    n = int(input(\"How many rows for the pyramid? \"))\n",
        "                    create_pyramid(n)\n",
        "                elif choice == '3':\n",
        "                    filename = \"output2.txt\"\n",
        "                    write_lines_to_file(filename)\n",
        "                elif choice == '4':\n",
        "                    break\n",
        "                else:\n",
        "                    print('\\nInvalid input!!!')\n",
        "        elif rchoice == '2':\n",
        "            while True:\n",
        "                print(\"\\nNumber Operations Menu\")\n",
        "                print(\"1. Reverse Number\")\n",
        "                print(\"2. Fibonacci Series\")\n",
        "                print(\"3. Factorial\")\n",
        "                print(\"4. Random Number Generator\")\n",
        "                print(\"5. Return to Main Menu\")\n",
        "                choice = input('\\nEnter choice (1-5): ')\n",
        "                if choice == '1':\n",
        "                    fn_reverse_number()\n",
        "                elif choice == '2':\n",
        "                    fibo()\n",
        "                elif choice == '3':\n",
        "                    n = int(input(\"Enter a number to calculate factorial: \"))\n",
        "                    print(f\"Factorial of {n} is {fn_factorial(n)}\")\n",
        "                elif choice == '4':\n",
        "                    fn_random_number_generator()\n",
        "                elif choice == '5':\n",
        "                    break\n",
        "                else:\n",
        "                    print('\\nInvalid input!!!')\n",
        "        elif rchoice == '3':\n",
        "            print('\\nThanks for using the program!')\n",
        "            break\n",
        "        else:\n",
        "            print('\\nInvalid input!!!')\n",
        "\n",
        "if __name__ == \"__main__\":\n",
        "    main()"
      ],
      "metadata": {
        "colab": {
          "base_uri": "https://localhost:8080/"
        },
        "id": "H7RePvzFW11R",
        "outputId": "dd979452-7410-48c5-d12f-f42205cef090"
      },
      "execution_count": 3,
      "outputs": [
        {
          "output_type": "stream",
          "name": "stdout",
          "text": [
            "MAIN MENU\n",
            "1. String Operation\n",
            "2. Number Operation\n",
            "3. EXIT\n",
            "\n",
            "Enter choice(1, 2 or 3): 3\n",
            "\n",
            "Thanks for using the program!\n"
          ]
        }
      ]
    }
  ]
}